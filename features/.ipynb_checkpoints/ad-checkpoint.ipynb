{
 "cells": [
  {
   "cell_type": "code",
   "execution_count": 1,
   "metadata": {
    "collapsed": true
   },
   "outputs": [],
   "source": [
    "import pandas as pd\n",
    "import numpy as np\n",
    "import matplotlib as plt\n",
    "import seaborn as sns"
   ]
  },
  {
   "cell_type": "code",
   "execution_count": 2,
   "metadata": {},
   "outputs": [
    {
     "data": {
      "text/html": [
       "<div>\n",
       "<style>\n",
       "    .dataframe thead tr:only-child th {\n",
       "        text-align: right;\n",
       "    }\n",
       "\n",
       "    .dataframe thead th {\n",
       "        text-align: left;\n",
       "    }\n",
       "\n",
       "    .dataframe tbody tr th {\n",
       "        vertical-align: top;\n",
       "    }\n",
       "</style>\n",
       "<table border=\"1\" class=\"dataframe\">\n",
       "  <thead>\n",
       "    <tr style=\"text-align: right;\">\n",
       "      <th></th>\n",
       "      <th>creativeID</th>\n",
       "      <th>adID</th>\n",
       "      <th>camgaignID</th>\n",
       "      <th>advertiserID</th>\n",
       "      <th>appID</th>\n",
       "      <th>appPlatform</th>\n",
       "    </tr>\n",
       "  </thead>\n",
       "  <tbody>\n",
       "    <tr>\n",
       "      <th>0</th>\n",
       "      <td>4079</td>\n",
       "      <td>2318</td>\n",
       "      <td>147</td>\n",
       "      <td>80</td>\n",
       "      <td>14</td>\n",
       "      <td>2</td>\n",
       "    </tr>\n",
       "    <tr>\n",
       "      <th>1</th>\n",
       "      <td>4565</td>\n",
       "      <td>3593</td>\n",
       "      <td>632</td>\n",
       "      <td>3</td>\n",
       "      <td>465</td>\n",
       "      <td>1</td>\n",
       "    </tr>\n",
       "    <tr>\n",
       "      <th>2</th>\n",
       "      <td>3170</td>\n",
       "      <td>1593</td>\n",
       "      <td>205</td>\n",
       "      <td>54</td>\n",
       "      <td>389</td>\n",
       "      <td>1</td>\n",
       "    </tr>\n",
       "    <tr>\n",
       "      <th>3</th>\n",
       "      <td>6566</td>\n",
       "      <td>2390</td>\n",
       "      <td>205</td>\n",
       "      <td>54</td>\n",
       "      <td>389</td>\n",
       "      <td>1</td>\n",
       "    </tr>\n",
       "    <tr>\n",
       "      <th>4</th>\n",
       "      <td>5187</td>\n",
       "      <td>411</td>\n",
       "      <td>564</td>\n",
       "      <td>3</td>\n",
       "      <td>465</td>\n",
       "      <td>1</td>\n",
       "    </tr>\n",
       "  </tbody>\n",
       "</table>\n",
       "</div>"
      ],
      "text/plain": [
       "   creativeID  adID  camgaignID  advertiserID  appID  appPlatform\n",
       "0        4079  2318         147            80     14            2\n",
       "1        4565  3593         632             3    465            1\n",
       "2        3170  1593         205            54    389            1\n",
       "3        6566  2390         205            54    389            1\n",
       "4        5187   411         564             3    465            1"
      ]
     },
     "execution_count": 2,
     "metadata": {},
     "output_type": "execute_result"
    }
   ],
   "source": [
    "ad = pd.read_csv(\"../data/pre/ad.csv\")\n",
    "ad.head()"
   ]
  },
  {
   "cell_type": "code",
   "execution_count": 5,
   "metadata": {},
   "outputs": [
    {
     "name": "stdout",
     "output_type": "stream",
     "text": [
      "creativeID 0: (0, 6)\n",
      "adID 0: (0, 6)\n",
      "camgaignID 0: (0, 6)\n",
      "advertiserID 0: (0, 6)\n",
      "appID 0: (0, 6)\n",
      "appPlatform 0: (0, 6)\n"
     ]
    }
   ],
   "source": [
    "print 'creativeID 0:',ad[ad['creativeID']==0].shape\n",
    "print 'adID 0:',ad[ad['adID']==0].shape\n",
    "print 'camgaignID 0:',ad[ad['camgaignID']==0].shape\n",
    "print 'advertiserID 0:',ad[ad['advertiserID']==0].shape\n",
    "print 'appID 0:',ad[ad['creativeID']==0].shape\n",
    "print 'appPlatform 0:',ad[ad['appPlatform']==0].shape"
   ]
  },
  {
   "cell_type": "code",
   "execution_count": 17,
   "metadata": {},
   "outputs": [
    {
     "name": "stdout",
     "output_type": "stream",
     "text": [
      "(1588, 2)\n",
      "(1588, 2)\n",
      "(1588, 2)\n"
     ]
    }
   ],
   "source": [
    "d = ad.groupby('adID',as_index=False)['creativeID'].agg({'count':'count'})\n",
    "# 查看 1 个 adID 是否对应多个 creativeID\n",
    "print d[d['count']>1].shape\n",
    "d = ad.groupby('adID',as_index=False)['appID'].agg({'count':'count'})\n",
    "# 查看 1 个 adID 是否对应多个 appID\n",
    "print d[d['count']>1].shape\n",
    "d = ad.groupby('adID',as_index=False)['camgaignID'].agg({'count':'count'})\n",
    "# 查看 1 个 appID 是否对应多个 camgaignID\n",
    "print d[d['count']>1].shape"
   ]
  },
  {
   "cell_type": "code",
   "execution_count": 16,
   "metadata": {},
   "outputs": [
    {
     "name": "stdout",
     "output_type": "stream",
     "text": [
      "(399, 2)\n",
      "(399, 2)\n",
      "(399, 2)\n"
     ]
    }
   ],
   "source": [
    "d = ad.groupby('camgaignID',as_index=False)['creativeID'].agg({'count':'count'})\n",
    "# 查看 1 个 camgaignID 是否对应多个 creativeID\n",
    "print d[d['count']>1].shape\n",
    "d = ad.groupby('camgaignID',as_index=False)['appID'].agg({'count':'count'})\n",
    "# 查看 1 个 camgaignID 是否对应多个 appID\n",
    "print d[d['count']>1].shape\n",
    "d = ad.groupby('camgaignID',as_index=False)['adID'].agg({'count':'count'})\n",
    "# 查看 1 个 camgaignID 是否对应多个 adID\n",
    "print d[d['count']>1].shape"
   ]
  },
  {
   "cell_type": "code",
   "execution_count": 14,
   "metadata": {},
   "outputs": [
    {
     "name": "stdout",
     "output_type": "stream",
     "text": [
      "(49, 2)\n",
      "(49, 2)\n",
      "(49, 2)\n"
     ]
    }
   ],
   "source": [
    "d = ad.groupby('appID',as_index=False)['creativeID'].agg({'count':'count'})\n",
    "# 查看 1 个 appID 是否对应多个 creativeID\n",
    "print d[d['count']>1].shape\n",
    "d = ad.groupby('appID',as_index=False)['adID'].agg({'count':'count'})\n",
    "# 查看 1 个 appID 是否对应多个 adID\n",
    "print d[d['count']>1].shape\n",
    "d = ad.groupby('appID',as_index=False)['camgaignID'].agg({'count':'count'})\n",
    "# 查看 1 个 appID 是否对应多个 camgaignID\n",
    "print d[d['count']>1].shape"
   ]
  },
  {
   "cell_type": "code",
   "execution_count": 15,
   "metadata": {},
   "outputs": [
    {
     "name": "stdout",
     "output_type": "stream",
     "text": [
      "(0, 2)\n",
      "(0, 2)\n",
      "(0, 2)\n"
     ]
    }
   ],
   "source": [
    "d = ad.groupby('creativeID',as_index=False)['camgaignID'].agg({'count':'count'})\n",
    "# 查看 1 个 creativeID 是否对应多个 camgaignID\n",
    "print d[d['count']>1].shape\n",
    "d = ad.groupby('creativeID',as_index=False)['appID'].agg({'count':'count'})\n",
    "# 查看 1 个 creativeID 是否对应多个 camgaignID\n",
    "print d[d['count']>1].shape\n",
    "d = ad.groupby('creativeID',as_index=False)['adID'].agg({'count':'count'})\n",
    "# 查看 1 个 creativeID 是否对应多个 adID\n",
    "print d[d['count']>1].shape"
   ]
  },
  {
   "cell_type": "code",
   "execution_count": null,
   "metadata": {},
   "outputs": [],
   "source": []
  },
  {
   "cell_type": "code",
   "execution_count": null,
   "metadata": {},
   "outputs": [],
   "source": []
  },
  {
   "cell_type": "code",
   "execution_count": 3,
   "metadata": {},
   "outputs": [
    {
     "data": {
      "text/plain": [
       "adID\n",
       "1    3\n",
       "2    3\n",
       "3    2\n",
       "4    1\n",
       "5    1\n",
       "Name: creativeID, dtype: int64"
      ]
     },
     "execution_count": 3,
     "metadata": {},
     "output_type": "execute_result"
    }
   ],
   "source": [
    "d = ad.groupby('adID')['creativeID'].count()\n",
    "d.head()"
   ]
  },
  {
   "cell_type": "code",
   "execution_count": null,
   "metadata": {
    "collapsed": true
   },
   "outputs": [],
   "source": []
  },
  {
   "cell_type": "code",
   "execution_count": null,
   "metadata": {
    "collapsed": true
   },
   "outputs": [],
   "source": []
  },
  {
   "cell_type": "code",
   "execution_count": null,
   "metadata": {
    "collapsed": true
   },
   "outputs": [],
   "source": []
  },
  {
   "cell_type": "code",
   "execution_count": null,
   "metadata": {
    "collapsed": true
   },
   "outputs": [],
   "source": []
  },
  {
   "cell_type": "code",
   "execution_count": null,
   "metadata": {
    "collapsed": true
   },
   "outputs": [],
   "source": []
  },
  {
   "cell_type": "code",
   "execution_count": null,
   "metadata": {
    "collapsed": true
   },
   "outputs": [],
   "source": []
  },
  {
   "cell_type": "code",
   "execution_count": null,
   "metadata": {
    "collapsed": true
   },
   "outputs": [],
   "source": []
  },
  {
   "cell_type": "code",
   "execution_count": null,
   "metadata": {
    "collapsed": true
   },
   "outputs": [],
   "source": []
  },
  {
   "cell_type": "code",
   "execution_count": null,
   "metadata": {
    "collapsed": true
   },
   "outputs": [],
   "source": []
  },
  {
   "cell_type": "code",
   "execution_count": null,
   "metadata": {
    "collapsed": true
   },
   "outputs": [],
   "source": []
  },
  {
   "cell_type": "code",
   "execution_count": null,
   "metadata": {
    "collapsed": true
   },
   "outputs": [],
   "source": []
  },
  {
   "cell_type": "code",
   "execution_count": null,
   "metadata": {
    "collapsed": true
   },
   "outputs": [],
   "source": []
  },
  {
   "cell_type": "code",
   "execution_count": null,
   "metadata": {
    "collapsed": true
   },
   "outputs": [],
   "source": []
  },
  {
   "cell_type": "code",
   "execution_count": null,
   "metadata": {
    "collapsed": true
   },
   "outputs": [],
   "source": []
  }
 ],
 "metadata": {
  "kernelspec": {
   "display_name": "Python 2",
   "language": "python",
   "name": "python2"
  },
  "language_info": {
   "codemirror_mode": {
    "name": "ipython",
    "version": 2
   },
   "file_extension": ".py",
   "mimetype": "text/x-python",
   "name": "python",
   "nbconvert_exporter": "python",
   "pygments_lexer": "ipython2",
   "version": "2.7.12"
  }
 },
 "nbformat": 4,
 "nbformat_minor": 1
}
